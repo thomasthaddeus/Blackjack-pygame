{
 "cells": [
  {
   "cell_type": "markdown",
   "metadata": {},
   "source": [
    "Blackjack is a very strategic casino card game that is best played with a mathematical approach involving probabilities.\n",
    "\n",
    "Blackjack odds refer to the percentage of the chances of winning for the player or the dealer.\n",
    "\n",
    "Depending on the number of decks being played and the side bets placed, the odds and probabilities vary, as discussed in detail here.\n",
    "\n",
    "It is simpler to calculate the blackjack odds and probabilities for the dealer and the player in a single-deck game though the calculations depend on the hands of both.\n",
    "\n",
    "Each variant of blackjack offers different odds of winning for the dealer as well as the player.\n",
    "\n",
    "In blackjack, the odds are represented in percentage and they determine the probability of winning or going bust in a particular situation.\n",
    "\n",
    "Knowledge of this blackjack probability of winning or going bust, in turn, helps players make better playing decisions and strategic moves.\n"
   ]
  },
  {
   "cell_type": "code",
   "execution_count": 5,
   "metadata": {},
   "outputs": [
    {
     "name": "stdout",
     "output_type": "stream",
     "text": [
      "Probability of getting a blackjack\n",
      "using 1 to 8 - 52 card decks\n",
      "without a cut in the deck is:\n",
      "╒══════════════╤══════════╕\n",
      "│ # of decks   │   Odds % │\n",
      "╞══════════════╪══════════╡\n",
      "│ 1 Deck       │   4.8265 │\n",
      "├──────────────┼──────────┤\n",
      "│ 2 Deck       │   4.7797 │\n",
      "├──────────────┼──────────┤\n",
      "│ 3 Deck       │   4.7643 │\n",
      "├──────────────┼──────────┤\n",
      "│ 4 Deck       │   4.7566 │\n",
      "├──────────────┼──────────┤\n",
      "│ 5 Deck       │   4.752  │\n",
      "├──────────────┼──────────┤\n",
      "│ 6 Deck       │   4.7489 │\n",
      "├──────────────┼──────────┤\n",
      "│ 7 Deck       │   4.7468 │\n",
      "├──────────────┼──────────┤\n",
      "│ 8 Deck       │   4.7451 │\n",
      "╘══════════════╧══════════╛\n"
     ]
    }
   ],
   "source": [
    "\"\"\"Defines the probability function for getting a blackjack.\"\"\"\n",
    "\n",
    "#########################################\n",
    "##                                     ##\n",
    "##      Written by Thad Thomas         ##\n",
    "##          d. May 29, 2022            ##\n",
    "##                                     ##\n",
    "#########################################\n",
    "\n",
    "from tabulate import tabulate\n",
    "# cut = float(random.randint(40, 80))\n",
    "ACES = 4 / 52  # First Card\n",
    "\n",
    "\n",
    "def main():\n",
    "    \"\"\"Main function\"\"\"\n",
    "    print(\"Probability of getting a blackjack\\n\"\n",
    "          \"using 1 to 8 - 52 card decks\\n\"\n",
    "          \"without a cut in the deck is:\")\n",
    "    print_block()\n",
    "\n",
    "\n",
    "def chance(decks):\n",
    "    \"\"\" Defines the probability function for being dealt a blackjack\n",
    "        based on the number of decks being used in the shoe\"\"\"\n",
    "    mult_deck = float(f\"{((2*(ACES)*(16 * decks/(52*decks-1))) * 100):.4f}\")\n",
    "    return mult_deck\n",
    "\n",
    "\n",
    "def print_block():\n",
    "    \"\"\"Lists the probabilities from 1 - 8 decks\"\"\"\n",
    "    table = [\n",
    "                ['# of decks', 'Odds %'],\n",
    "                ['1 Deck', chance(1)],\n",
    "                ['2 Deck', chance(2)],\n",
    "                ['3 Deck', chance(3)],\n",
    "                ['4 Deck', chance(4)],\n",
    "                ['5 Deck', chance(5)],\n",
    "                ['6 Deck', chance(6)],\n",
    "                ['7 Deck', chance(7)],\n",
    "                ['8 Deck', chance(8)]\n",
    "            ]\n",
    "    tab = print(tabulate(table, headers='firstrow', tablefmt='fancy_grid'))\n",
    "    # 32 / 663 - single deck probability\n",
    "    return tab\n",
    "\n",
    "\n",
    "if __name__ == '__main__':\n",
    "    main()\n"
   ]
  },
  {
   "cell_type": "markdown",
   "metadata": {},
   "source": [
    "The odds of a No Bust, a Standing Hand (17-20) and a Decision Hand (1-16) are\n",
    "-  26.5%, 30%, and 38.7% respectively."
   ]
  },
  {
   "cell_type": "markdown",
   "metadata": {},
   "source": [
    "|No Bust|Standing Hand|Decision Hand|\n",
    "| --- | --- | --- |\n",
    "|(Under 21)|(17-20)|(1-16)|\n",
    "|26.5%|30%|38.7%|\n",
    "\n"
   ]
  },
  {
   "cell_type": "code",
   "execution_count": null,
   "metadata": {},
   "outputs": [],
   "source": [
    "def no_buster():  # 26.5%\n",
    "    \"\"\"no_buster _summary_\"\"\"\n",
    "    print()\n"
   ]
  },
  {
   "cell_type": "code",
   "execution_count": null,
   "metadata": {},
   "outputs": [],
   "source": [
    "import random\n",
    "def standing_hand():\n",
    "    \"\"\"Defines the standing hand\"\"\" # 30%\n",
    "    # J = 10\n",
    "    # Q = 10\n",
    "    # K = 10\n",
    "    # A = 11\n",
    "    deck = [2, 3, 4, 5, 6, 7, 8, 9, 10, 10, 10, 10, 11]\n",
    "    \n",
    "    card1 = random.randint(deck[5:13])\n",
    "    card2 = random.randint(deck[5:13])\n"
   ]
  },
  {
   "cell_type": "code",
   "execution_count": null,
   "metadata": {},
   "outputs": [],
   "source": [
    "# Decision Hand (1-16)\n",
    "def decision_hand(card_a, card_b, *args): # 38.7%\n",
    "    \"\"\"decision_hand _summary_\"\"\"\n",
    "    x = card_a + card_b\n",
    "    if x > 16:\n",
    "        for i in range(5):\n",
    "            "
   ]
  },
  {
   "cell_type": "markdown",
   "metadata": {},
   "source": [
    "- The odds for the final hands that the dealer will make, on the other hand,\n",
    "    - are 4.82% for a Natural 21 and\n",
    "    - between 17.58%% to 28.36%\n",
    "        - for hands between 20 and 16."
   ]
  },
  {
   "cell_type": "markdown",
   "metadata": {},
   "source": [
    "The odds of busting for the player in a single shoe game will be:\n",
    "1. 100% for 21 and \n",
    "2. gradually come down to 0%\n",
    "    - if the card in hand is <11."
   ]
  }
 ],
 "metadata": {
  "interpreter": {
   "hash": "26de051ba29f2982a8de78e945f0abaf191376122a1563185a90213a26c5da77"
  },
  "kernelspec": {
   "display_name": "Python 3.10.4 64-bit",
   "language": "python",
   "name": "python3"
  },
  "language_info": {
   "codemirror_mode": {
    "name": "ipython",
    "version": 3
   },
   "file_extension": ".py",
   "mimetype": "text/x-python",
   "name": "python",
   "nbconvert_exporter": "python",
   "pygments_lexer": "ipython3",
   "version": "3.10.4"
  },
  "orig_nbformat": 4
 },
 "nbformat": 4,
 "nbformat_minor": 2
}
