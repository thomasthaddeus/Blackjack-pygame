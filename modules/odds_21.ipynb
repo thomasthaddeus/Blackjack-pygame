{
 "cells": [
  {
   "cell_type": "markdown",
   "metadata": {},
   "source": [
    "<pre>\n",
    "Blackjack is a very strategic casino card game that is best played with a mathematical approach involving probabilities.\n",
    "Blackjack odds refer to the percentage of the chances of winning for the player or the dealer.\n",
    "Depending on the number of decks being played and the side bets placed,\n",
    "    the odds and probabilities vary, as discussed in detail here.\n",
    "Blackjack Odds for Single Shoe\n",
    "It is simpler to calculate the blackjack odds and probabilities for the dealer and the player\n",
    "    in a single-deck game though the calculations depend on the hands of both.\n",
    "</pre>"
   ]
  },
  {
   "cell_type": "markdown",
   "metadata": {},
   "source": [
    "Each variant of blackjack offers different odds of winning for the dealer as well as the player.\n",
    "In blackjack, the odds are represented in percentage and they determine the probability of winning or going bust in a particular situation.\n",
    "Knowledge of this blackjack probability of winning or going bust, in turn, helps players make better playing decisions and strategic moves.\n",
    "\n",
    "Continuous shuffling blackjack resets the odds at every hand since the deck gets reshuffled over and over again continuously.\n"
   ]
  },
  {
   "cell_type": "markdown",
   "metadata": {},
   "source": [
    "### Odds of getting blackjack with a single deck\n",
    "\n",
    "# Natural"
   ]
  },
  {
   "cell_type": "code",
   "execution_count": null,
   "metadata": {},
   "outputs": [],
   "source": [
    "\"\"\"Defines the probability function for getting a blackjack.\"\"\"\n",
    "\n",
    "#########################################\n",
    "##                                     ##\n",
    "##      Written by Thad Thomas         ##\n",
    "##          d. May 29, 2022            ##\n",
    "##                                     ##\n",
    "#########################################\n",
    "\n",
    "from tabulate import tabulate\n",
    "# cut = float(random.randint(40, 80))\n",
    "ACES = 4 / 52  # First Card\n",
    "\n",
    "\n",
    "def main():\n",
    "    \"\"\"Main function\"\"\"\n",
    "    print(\"\"\"\n",
    "\\nProbability of getting a blackjack\n",
    "using 1 to 8 - 52 card decks\n",
    "without a cut in the deck is:\\n\"\"\")\n",
    "    print_block()\n",
    "\n",
    "\n",
    "def chance(decks):\n",
    "    \"\"\"Defines the probability function for being dealt a blackjack\n",
    "        based on the number of decks being used in the shoe\"\"\"\n",
    "    mult_deck = float(f\"{((2*(ACES)*(16 * decks/(52*decks-1))) * 100):.4f}\")\n",
    "    return mult_deck\n",
    "\n",
    "\n",
    "def print_block():\n",
    "    \"\"\"Lists the probabilities from 1 - 8 decks\"\"\"\n",
    "    table = [\n",
    "                ['# of decks', 'Odds %'],\n",
    "                ['1 Deck', chance(1)],\n",
    "                ['2 Deck', chance(2)],\n",
    "                ['3 Deck', chance(3)],\n",
    "                ['4 Deck', chance(4)],\n",
    "                ['5 Deck', chance(5)],\n",
    "                ['6 Deck', chance(6)],\n",
    "                ['7 Deck', chance(7)],\n",
    "                ['8 Deck', chance(8)]\n",
    "            ]\n",
    "    tab = print(tabulate(table, headers='firstrow', tablefmt='fancy_grid'))\n",
    "    # 32 / 663 - single deck probability\n",
    "    return tab\n",
    "\n",
    "\n",
    "if __name__ == '__main__':\n",
    "    main()\n"
   ]
  },
  {
   "cell_type": "markdown",
   "metadata": {},
   "source": [
    "The odds of a No Bust, a Standing Hand (17-20) and a Decision Hand (1-16) are\n",
    "-  26.5%, 30%, and 38.7% respectively.\n"
   ]
  },
  {
   "cell_type": "markdown",
   "metadata": {},
   "source": [
    "\"\"\"The odds of a No Bust, a Standing Hand (17-20) and a Decision Hand (1-16) are\n",
    "    26.5%, 30%, and 38.7% respectively.\"\"\""
   ]
  },
  {
   "cell_type": "code",
   "execution_count": null,
   "metadata": {},
   "outputs": [],
   "source": [
    "def no_buster():  # 26.5%\n",
    "    \"\"\"no_buster _summary_\"\"\"\n",
    "    print()\n"
   ]
  },
  {
   "cell_type": "code",
   "execution_count": null,
   "metadata": {},
   "outputs": [],
   "source": [
    "def standing_hand():\n",
    "    \"\"\"Defines the standing hand\"\"\"\n",
    "    "
   ]
  },
  {
   "cell_type": "code",
   "execution_count": null,
   "metadata": {},
   "outputs": [],
   "source": [
    "# Decision Hand (1-16)\n",
    "def decision_hand(card_a, card_b, **kwargs): # 38.7%\n",
    "    \"\"\"decision_hand _summary_\"\"\"\n",
    "    x = card_a + card_b\n",
    "    if x > 16:\n",
    "        for i in range(5):\n",
    "            "
   ]
  },
  {
   "cell_type": "markdown",
   "metadata": {},
   "source": [
    "- The odds for the final hands that the dealer will make, on the other hand,\n",
    "    - are 4.82% for a Natural 21 and\n",
    "    - between 17.58%% to 28.36%\n",
    "        - for hands between 20 and 16."
   ]
  },
  {
   "cell_type": "markdown",
   "metadata": {},
   "source": [
    "The odds of busting for the player in a single shoe game will be:\n",
    "1. 100% for 21 and \n",
    "2. gradually come down to 0%\n",
    "    - if the card in hand is <11."
   ]
  },
  {
   "cell_type": "markdown",
   "metadata": {},
   "source": [
    "4-Deck to 8-Deck Blackjack Strategy\n",
    "Introduction\n",
    "To use the basic strategy, look up your hand along the left vertical edge and the dealer's up card along the top. In both cases an A stands for ace. From top to bottom are the hard totals, soft totals, and split able hands. There are two charts depending on whether the dealer hits or stands on soft 17.</br>\n",
    "\n",
    "- Other basic strategy rules.</br>\n",
    "\t+ Never take insurance or \"even money.\"\n",
    "\t+ If there is no row for splitting (fives and tens), then look up your hand as a hard total (10 or 20).\n",
    "\t+ If you can't split because of a limit on re-splitting, then look up your hand as a hard total, except aces. In the extremely unlikely event you have a pair of aces you can't re-split and drawing to split aces is allowed, then double against a 6, otherwise hit.\n",
    "\n",
    "If you play a mixture of six-deck games, some where the dealer hits a soft 17, and some where he stands, and you only wish to memorize one strategy, I would recommend you memorize the one where the dealer stands on soft 17. The cost in errors due to playing the wrong strategy is 2.3 times higher playing a stand on soft 17 game, with the hit on 17 strategy, than vise versa .</br>"
   ]
  }
 ],
 "metadata": {
  "interpreter": {
   "hash": "26de051ba29f2982a8de78e945f0abaf191376122a1563185a90213a26c5da77"
  },
  "kernelspec": {
   "display_name": "Python 3.10.4 64-bit",
   "language": "python",
   "name": "python3"
  },
  "language_info": {
   "codemirror_mode": {
    "name": "ipython",
    "version": 3
   },
   "file_extension": ".py",
   "mimetype": "text/x-python",
   "name": "python",
   "nbconvert_exporter": "python",
   "pygments_lexer": "ipython3",
   "version": "3.10.4"
  },
  "orig_nbformat": 4
 },
 "nbformat": 4,
 "nbformat_minor": 2
}
